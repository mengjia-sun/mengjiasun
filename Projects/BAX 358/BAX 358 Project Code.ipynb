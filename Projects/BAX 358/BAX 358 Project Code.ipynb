{
  "nbformat": 4,
  "nbformat_minor": 0,
  "metadata": {
    "colab": {
      "provenance": []
    },
    "kernelspec": {
      "name": "python3",
      "display_name": "Python 3"
    },
    "language_info": {
      "name": "python"
    }
  },
  "cells": [
    {
      "cell_type": "code",
      "execution_count": null,
      "metadata": {
        "colab": {
          "base_uri": "https://localhost:8080/"
        },
        "id": "vV-qhKbBTBWa",
        "outputId": "4eb93a20-e43d-4da9-fe90-6ac126630bc0"
      },
      "outputs": [
        {
          "output_type": "stream",
          "name": "stdout",
          "text": [
            "Looking in indexes: https://pypi.org/simple, https://us-python.pkg.dev/colab-wheels/public/simple/\n",
            "Collecting gurobipy\n",
            "  Downloading gurobipy-10.0.1-cp38-cp38-manylinux2014_x86_64.whl (12.8 MB)\n",
            "\u001b[2K     \u001b[90m━━━━━━━━━━━━━━━━━━━━━━━━━━━━━━━━━━━━━━━━\u001b[0m \u001b[32m12.8/12.8 MB\u001b[0m \u001b[31m33.4 MB/s\u001b[0m eta \u001b[36m0:00:00\u001b[0m\n",
            "\u001b[?25hInstalling collected packages: gurobipy\n",
            "Successfully installed gurobipy-10.0.1\n"
          ]
        }
      ],
      "source": [
        "!pip install gurobipy"
      ]
    },
    {
      "cell_type": "code",
      "source": [
        "import numpy as np\n",
        "import gurobipy as gp\n",
        "import pandas as pd"
      ],
      "metadata": {
        "id": "r742bUWoTVhR"
      },
      "execution_count": null,
      "outputs": []
    },
    {
      "cell_type": "code",
      "source": [
        "# link to google drive\n",
        "from google.colab import drive\n",
        "drive.mount('/content/drive')"
      ],
      "metadata": {
        "colab": {
          "base_uri": "https://localhost:8080/"
        },
        "id": "10xk8CvNTebQ",
        "outputId": "0ac7c73c-bcc2-4ebe-c972-f5feed931a88"
      },
      "execution_count": null,
      "outputs": [
        {
          "output_type": "stream",
          "name": "stdout",
          "text": [
            "Mounted at /content/drive\n"
          ]
        }
      ]
    },
    {
      "cell_type": "code",
      "source": [
        "links = np.array(pd.read_csv('/content/drive/MyDrive/ROI_data.csv')) # read the ROI return ratio for each platform\n",
        "links"
      ],
      "metadata": {
        "id": "xTSmFA4lUEg-",
        "colab": {
          "base_uri": "https://localhost:8080/"
        },
        "outputId": "10e3dbeb-dea0-47a3-c007-f404443cca80"
      },
      "execution_count": null,
      "outputs": [
        {
          "output_type": "execute_result",
          "data": {
            "text/plain": [
              "array([['ROI', 0.031, 0.049, 0.024, 0.039, 0.016, 0.024, 0.046, 0.026,\n",
              "        0.033, 0.044],\n",
              "       ['Second Firms ROI Estimate', 0.049, 0.023, 0.024, 0.039, 0.044,\n",
              "        0.046, 0.026, 0.019, 0.037, 0.026]], dtype=object)"
            ]
          },
          "metadata": {},
          "execution_count": 4
        }
      ]
    },
    {
      "cell_type": "code",
      "source": [
        "index = np.array(pd.read_csv('/content/drive/MyDrive/index_data.csv')) # read the index \n",
        "index"
      ],
      "metadata": {
        "colab": {
          "base_uri": "https://localhost:8080/"
        },
        "id": "loC2PHdJXxU2",
        "outputId": "f720fef1-1591-450f-bd44-90703e618a88"
      },
      "execution_count": null,
      "outputs": [
        {
          "output_type": "execute_result",
          "data": {
            "text/plain": [
              "array([['January', 1, 13, 25, 37, 49, 61, 73, 85, 97, 109],\n",
              "       ['February', 2, 14, 26, 38, 50, 62, 74, 86, 98, 110],\n",
              "       ['March', 3, 15, 27, 39, 51, 63, 75, 87, 99, 111],\n",
              "       ['April', 4, 16, 28, 40, 52, 64, 76, 88, 100, 112],\n",
              "       ['May', 5, 17, 29, 41, 53, 65, 77, 89, 101, 113],\n",
              "       ['June', 6, 18, 30, 42, 54, 66, 78, 90, 102, 114],\n",
              "       ['July', 7, 19, 31, 43, 55, 67, 79, 91, 103, 115],\n",
              "       ['August', 8, 20, 32, 44, 56, 68, 80, 92, 104, 116],\n",
              "       ['September', 9, 21, 33, 45, 57, 69, 81, 93, 105, 117],\n",
              "       ['October', 10, 22, 34, 46, 58, 70, 82, 94, 106, 118],\n",
              "       ['November', 11, 23, 35, 47, 59, 71, 83, 95, 107, 119],\n",
              "       ['December', 12, 24, 36, 48, 60, 72, 84, 96, 108, 120]],\n",
              "      dtype=object)"
            ]
          },
          "metadata": {},
          "execution_count": 5
        }
      ]
    },
    {
      "cell_type": "code",
      "source": [
        "mat = np.array(pd.read_csv('/content/drive/MyDrive/roi_mat.csv')) # read the ROI return ratio for each platform over the year\n",
        "mat"
      ],
      "metadata": {
        "colab": {
          "base_uri": "https://localhost:8080/"
        },
        "id": "_rYa_Kf9Xzrl",
        "outputId": "ac153c0f-3278-4db7-d07f-3c3d90a39c21"
      },
      "execution_count": null,
      "outputs": [
        {
          "output_type": "execute_result",
          "data": {
            "text/plain": [
              "array([['January', 4.0, 3.6, 2.4, 3.9, 3.0, 3.5, 3.6, 2.25, 3.5, 3.5],\n",
              "       ['February', 4.0, 3.9, 2.7, 3.8, 4.3, 3.2, 2.7, 1.8, 3.7, 3.5],\n",
              "       ['March', 3.5, 2.9, 3.1, 3.8, 2.4, 4.1, 3.7, 2.6, 4.2, 2.5],\n",
              "       ['April', 3.8, 3.1, 2.4, 4.4, 2.4, 3.8, 3.7, 2.5, 3.6, 2.9],\n",
              "       ['May', 3.5, 3.2, 1.9, 3.4, 2.7, 2.7, 3.9, 2.2, 4.5, 3.9],\n",
              "       ['June', 4.0, 3.2, 2.7, 3.4, 3.4, 3.0, 4.5, 2.1, 3.8, 4.1],\n",
              "       ['July', 3.9, 3.6, 2.0, 4.4, 3.9, 3.7, 4.3, 1.8, 4.0, 3.8],\n",
              "       ['August', 4.2, 3.3, 2.8, 4.2, 2.0, 3.7, 3.6, 1.5, 4.4, 4.3],\n",
              "       ['September', 4.1, 2.8, 2.5, 4.2, 2.9, 3.7, 2.8, 2.5, 4.0, 3.4],\n",
              "       ['October', 3.0, 3.0, 3.1, 4.6, 3.1, 3.3, 3.2, 2.3, 2.5, 3.2],\n",
              "       ['November', 4.8, 3.3, 2.7, 4.1, 2.9, 3.6, 4.2, 3.0, 3.1, 4.1],\n",
              "       ['December', 4.8, 4.0, 1.9, 3.7, 4.2, 3.6, 2.6, 2.9, 3.6, 3.7]],\n",
              "      dtype=object)"
            ]
          },
          "metadata": {},
          "execution_count": 6
        }
      ]
    },
    {
      "cell_type": "markdown",
      "source": [
        "Find the best budget allocation using first ROI return ratio"
      ],
      "metadata": {
        "id": "r6ly3S33Ur0i"
      }
    },
    {
      "cell_type": "code",
      "source": [
        "obj = np.array(links[0,1:]) # get the objective ROI for each platform\n",
        "A = np.zeros((3,10))\n",
        "A[0,:] = [1,1,0,0,-1,0,0,0,0,-1] # the first contraint: x1 + x2 - x5 - x10 <= 0\n",
        "A[1,:] = [0,0,2,2,-1,-1,-1,-1,-1,0] # the social media constraint: 2x3 + 2x4 - x5 - x6 - x7  - x8 - x9 ≤  0\n",
        "A[2,:] = [1,1,1,1,1,1,1,1,1,1] # the budget constraint: x1 + x2 + x3 + x4 + x5 + x6 - x7 - x8 + x9 + x10 ≤ 10M\n",
        "b = np.array([0,0,10]) "
      ],
      "metadata": {
        "id": "KfW3WvzHUa_8"
      },
      "execution_count": null,
      "outputs": []
    },
    {
      "cell_type": "code",
      "source": [
        "ojModel = gp.Model() # initialize an empty model\n",
        "\n",
        "ojModX = ojModel.addMVar(10, ub = 3) # tell the model there are 10 variables and upper bound is 3M\n",
        "ojModCon = ojModel.addConstr(A @ ojModX <= b) # add the constraints to the model\n",
        "ojModel.setObjective(obj @ ojModX,sense=gp.GRB.MAXIMIZE) # add the objective to the model...we'll talk about the None and the 0\n",
        "\n",
        "ojModel.Params.OutputFlag = 0 # tell gurobi to shut up!!\n",
        "ojModel.Params.TimeLimit = 3600"
      ],
      "metadata": {
        "id": "xB64YEmZWcxZ"
      },
      "execution_count": null,
      "outputs": []
    },
    {
      "cell_type": "code",
      "source": [
        "ojModel.optimize() # solve the LP"
      ],
      "metadata": {
        "id": "nSVVkJpaWf0Q"
      },
      "execution_count": null,
      "outputs": []
    },
    {
      "cell_type": "markdown",
      "source": [
        "The budget allocation based on first ROI"
      ],
      "metadata": {
        "id": "7k58l3H5V6mJ"
      }
    },
    {
      "cell_type": "code",
      "source": [
        "ojModX.x # the optimal allocation"
      ],
      "metadata": {
        "colab": {
          "base_uri": "https://localhost:8080/"
        },
        "id": "UbP-pcSuWhTy",
        "outputId": "64f39c4d-70d9-4ffa-ff32-05be702f110e"
      },
      "execution_count": null,
      "outputs": [
        {
          "output_type": "execute_result",
          "data": {
            "text/plain": [
              "array([0., 3., 0., 1., 0., 0., 3., 0., 0., 3.])"
            ]
          },
          "metadata": {},
          "execution_count": 38
        }
      ]
    },
    {
      "cell_type": "code",
      "source": [
        "ojModel.objVal # the objective value"
      ],
      "metadata": {
        "colab": {
          "base_uri": "https://localhost:8080/"
        },
        "id": "W3QtrvSOWjfB",
        "outputId": "28b0bc3f-b4d9-4a43-e87b-732345c073cd"
      },
      "execution_count": null,
      "outputs": [
        {
          "output_type": "execute_result",
          "data": {
            "text/plain": [
              "0.45600000000000007"
            ]
          },
          "metadata": {},
          "execution_count": 39
        }
      ]
    },
    {
      "cell_type": "markdown",
      "source": [
        "Using the second ROI to find the best budget allocation"
      ],
      "metadata": {
        "id": "5ntP7Hb5WpTT"
      }
    },
    {
      "cell_type": "code",
      "source": [
        "obja = np.array(links[1,1:]) # get the second objective ROI for each platform\n",
        "obja"
      ],
      "metadata": {
        "colab": {
          "base_uri": "https://localhost:8080/"
        },
        "id": "mRzq0vx7Wrrk",
        "outputId": "956dfa72-02b5-4e11-cc71-1becd8385fa2"
      },
      "execution_count": null,
      "outputs": [
        {
          "output_type": "execute_result",
          "data": {
            "text/plain": [
              "array([0.049, 0.023, 0.024, 0.039, 0.044, 0.046, 0.026, 0.019, 0.037,\n",
              "       0.026], dtype=object)"
            ]
          },
          "metadata": {},
          "execution_count": 12
        }
      ]
    },
    {
      "cell_type": "code",
      "source": [
        "ojaModel = gp.Model() # initialize an empty model\n",
        "\n",
        "ojaModX = ojaModel.addMVar(10, ub = 3) # tell the model there are 10 variables and 3 constraints\n",
        "ojaModCon = ojaModel.addConstr(A @ ojaModX <= b) # add the constraints to the model\n",
        "ojaModel.setObjective(obja @ ojaModX,sense=gp.GRB.MAXIMIZE) # add the objective to the model\n",
        "\n",
        "ojaModel.Params.OutputFlag = 0 # tell gurobi to shut up!!\n",
        "ojaModel.Params.TimeLimit = 3600"
      ],
      "metadata": {
        "id": "rhT0-PSsW0ON"
      },
      "execution_count": null,
      "outputs": []
    },
    {
      "cell_type": "code",
      "source": [
        "ojaModel.optimize()\n",
        "ojaModX.x  # budget allocation based on second ROI"
      ],
      "metadata": {
        "colab": {
          "base_uri": "https://localhost:8080/"
        },
        "id": "Y_ggltH4W212",
        "outputId": "cb95531b-707c-4230-a31e-397b7b297dba"
      },
      "execution_count": null,
      "outputs": [
        {
          "output_type": "execute_result",
          "data": {
            "text/plain": [
              "array([3., 0., 0., 1., 3., 3., 0., 0., 0., 0.])"
            ]
          },
          "metadata": {},
          "execution_count": 14
        }
      ]
    },
    {
      "cell_type": "code",
      "source": [
        "ojaModel.objVal # the objetive value based on second ROI"
      ],
      "metadata": {
        "colab": {
          "base_uri": "https://localhost:8080/"
        },
        "id": "p22l-JQXW7Nx",
        "outputId": "82b1790a-a651-4bc4-8b17-050b381a407c"
      },
      "execution_count": null,
      "outputs": [
        {
          "output_type": "execute_result",
          "data": {
            "text/plain": [
              "0.45600000000000007"
            ]
          },
          "metadata": {},
          "execution_count": 15
        }
      ]
    },
    {
      "cell_type": "markdown",
      "source": [
        "Using first ROI and second allocation"
      ],
      "metadata": {
        "id": "9faGrcyvW-wv"
      }
    },
    {
      "cell_type": "code",
      "source": [
        "obj @ ojaModX.x"
      ],
      "metadata": {
        "colab": {
          "base_uri": "https://localhost:8080/"
        },
        "id": "n9FE72q_W_wN",
        "outputId": "7821813d-93aa-4e1b-986a-3c33f7d96e85"
      },
      "execution_count": null,
      "outputs": [
        {
          "output_type": "execute_result",
          "data": {
            "text/plain": [
              "0.252"
            ]
          },
          "metadata": {},
          "execution_count": 16
        }
      ]
    },
    {
      "cell_type": "markdown",
      "source": [
        "Using second ROI and first allocation"
      ],
      "metadata": {
        "id": "e20K0H6zXBdX"
      }
    },
    {
      "cell_type": "code",
      "source": [
        "obja @ ojModX.x"
      ],
      "metadata": {
        "colab": {
          "base_uri": "https://localhost:8080/"
        },
        "id": "9pL3PAolXD6g",
        "outputId": "feff93eb-c679-40af-a895-9680ef273654"
      },
      "execution_count": null,
      "outputs": [
        {
          "output_type": "execute_result",
          "data": {
            "text/plain": [
              "0.264"
            ]
          },
          "metadata": {},
          "execution_count": 17
        }
      ]
    },
    {
      "cell_type": "markdown",
      "source": [
        "Lower range of obj where optimal corner stay the same"
      ],
      "metadata": {
        "id": "632fVudiXoaH"
      }
    },
    {
      "cell_type": "code",
      "source": [
        "ojModX.SAObjLow"
      ],
      "metadata": {
        "id": "sGURduKQXNB3",
        "colab": {
          "base_uri": "https://localhost:8080/"
        },
        "outputId": "0516fbbd-71a3-4249-9795-2fb4c38b44c4"
      },
      "execution_count": null,
      "outputs": [
        {
          "output_type": "execute_result",
          "data": {
            "text/plain": [
              "array([ -inf, 0.039,  -inf, 0.033,  -inf,  -inf, 0.039,  -inf,  -inf,\n",
              "       0.029])"
            ]
          },
          "metadata": {},
          "execution_count": 41
        }
      ]
    },
    {
      "cell_type": "markdown",
      "source": [
        "Upper range of obj where optimal corner stay the same"
      ],
      "metadata": {
        "id": "EiFWxi4QXvzq"
      }
    },
    {
      "cell_type": "code",
      "source": [
        "ojModX.SAObjUp"
      ],
      "metadata": {
        "colab": {
          "base_uri": "https://localhost:8080/"
        },
        "id": "HQgAnRZwXh4o",
        "outputId": "34645e17-a126-4418-e6f1-6bfd87b85045"
      },
      "execution_count": null,
      "outputs": [
        {
          "output_type": "execute_result",
          "data": {
            "text/plain": [
              "array([0.049, 0.062, 0.039, 0.046, 0.029, 0.039,   inf, 0.039, 0.039,\n",
              "         inf])"
            ]
          },
          "metadata": {},
          "execution_count": 40
        }
      ]
    },
    {
      "cell_type": "code",
      "source": [],
      "metadata": {
        "id": "cuQ1wUxTmLux"
      },
      "execution_count": null,
      "outputs": []
    },
    {
      "cell_type": "markdown",
      "source": [
        "# Question 7"
      ],
      "metadata": {
        "id": "xfTJLbStX_Rt"
      }
    },
    {
      "cell_type": "code",
      "source": [
        "matt = np.array(0.01*mat[0:,1:]) # getting an array for all the ROI in each platorm throughout the year in percent ratio\n",
        "matt"
      ],
      "metadata": {
        "colab": {
          "base_uri": "https://localhost:8080/"
        },
        "id": "xN3CL7G3YFPQ",
        "outputId": "d019b27c-3dbc-4d05-ba95-58b168402129"
      },
      "execution_count": null,
      "outputs": [
        {
          "output_type": "execute_result",
          "data": {
            "text/plain": [
              "array([[0.04, 0.036000000000000004, 0.024, 0.039, 0.03, 0.035,\n",
              "        0.036000000000000004, 0.0225, 0.035, 0.035],\n",
              "       [0.04, 0.039, 0.027000000000000003, 0.038, 0.043, 0.032,\n",
              "        0.027000000000000003, 0.018000000000000002, 0.037000000000000005,\n",
              "        0.035],\n",
              "       [0.035, 0.028999999999999998, 0.031000000000000003, 0.038, 0.024,\n",
              "        0.040999999999999995, 0.037000000000000005, 0.026000000000000002,\n",
              "        0.042, 0.025],\n",
              "       [0.038, 0.031000000000000003, 0.024, 0.044000000000000004, 0.024,\n",
              "        0.038, 0.037000000000000005, 0.025, 0.036000000000000004,\n",
              "        0.028999999999999998],\n",
              "       [0.035, 0.032, 0.019, 0.034, 0.027000000000000003,\n",
              "        0.027000000000000003, 0.039, 0.022000000000000002, 0.045, 0.039],\n",
              "       [0.04, 0.032, 0.027000000000000003, 0.034, 0.034, 0.03, 0.045,\n",
              "        0.021, 0.038, 0.040999999999999995],\n",
              "       [0.039, 0.036000000000000004, 0.02, 0.044000000000000004, 0.039,\n",
              "        0.037000000000000005, 0.043, 0.018000000000000002, 0.04, 0.038],\n",
              "       [0.042, 0.033, 0.027999999999999997, 0.042, 0.02,\n",
              "        0.037000000000000005, 0.036000000000000004, 0.015,\n",
              "        0.044000000000000004, 0.043],\n",
              "       [0.040999999999999995, 0.027999999999999997, 0.025, 0.042,\n",
              "        0.028999999999999998, 0.037000000000000005, 0.027999999999999997,\n",
              "        0.025, 0.04, 0.034],\n",
              "       [0.03, 0.03, 0.031000000000000003, 0.046, 0.031000000000000003,\n",
              "        0.033, 0.032, 0.023, 0.025, 0.032],\n",
              "       [0.048, 0.033, 0.027000000000000003, 0.040999999999999995,\n",
              "        0.028999999999999998, 0.036000000000000004, 0.042, 0.03,\n",
              "        0.031000000000000003, 0.040999999999999995],\n",
              "       [0.048, 0.04, 0.019, 0.037000000000000005, 0.042,\n",
              "        0.036000000000000004, 0.026000000000000002, 0.028999999999999998,\n",
              "        0.036000000000000004, 0.037000000000000005]], dtype=object)"
            ]
          },
          "metadata": {},
          "execution_count": 20
        }
      ]
    },
    {
      "cell_type": "code",
      "source": [
        "npages = matt.shape[0] # see how many months it has\n",
        "npages"
      ],
      "metadata": {
        "colab": {
          "base_uri": "https://localhost:8080/"
        },
        "id": "iW9SSt5nadvl",
        "outputId": "6f59ef40-6e4b-48bd-9f37-b02eeb57e362"
      },
      "execution_count": null,
      "outputs": [
        {
          "output_type": "execute_result",
          "data": {
            "text/plain": [
              "12"
            ]
          },
          "metadata": {},
          "execution_count": 21
        }
      ]
    },
    {
      "cell_type": "code",
      "source": [
        "P = np.zeros((npages,10)) # create an empty array to store the best budget allocation for\n",
        "P"
      ],
      "metadata": {
        "colab": {
          "base_uri": "https://localhost:8080/"
        },
        "id": "6KbSNoKibpao",
        "outputId": "c8c5a4a3-45bf-46b5-de12-b688c6751360"
      },
      "execution_count": null,
      "outputs": [
        {
          "output_type": "execute_result",
          "data": {
            "text/plain": [
              "array([[0., 0., 0., 0., 0., 0., 0., 0., 0., 0.],\n",
              "       [0., 0., 0., 0., 0., 0., 0., 0., 0., 0.],\n",
              "       [0., 0., 0., 0., 0., 0., 0., 0., 0., 0.],\n",
              "       [0., 0., 0., 0., 0., 0., 0., 0., 0., 0.],\n",
              "       [0., 0., 0., 0., 0., 0., 0., 0., 0., 0.],\n",
              "       [0., 0., 0., 0., 0., 0., 0., 0., 0., 0.],\n",
              "       [0., 0., 0., 0., 0., 0., 0., 0., 0., 0.],\n",
              "       [0., 0., 0., 0., 0., 0., 0., 0., 0., 0.],\n",
              "       [0., 0., 0., 0., 0., 0., 0., 0., 0., 0.],\n",
              "       [0., 0., 0., 0., 0., 0., 0., 0., 0., 0.],\n",
              "       [0., 0., 0., 0., 0., 0., 0., 0., 0., 0.],\n",
              "       [0., 0., 0., 0., 0., 0., 0., 0., 0., 0.]])"
            ]
          },
          "metadata": {},
          "execution_count": 22
        }
      ]
    },
    {
      "cell_type": "code",
      "source": [
        "default_budget = 10 # the default budget at the start of each month\n",
        "reinvest_ratio = 0.5"
      ],
      "metadata": {
        "id": "ViDqP85kagZK"
      },
      "execution_count": null,
      "outputs": []
    },
    {
      "cell_type": "code",
      "source": [
        "b = np.array([0,0,default_budget])\n",
        "for i in range(npages):\n",
        "  obj = np.array(matt[i,:])\n",
        "  ojModel = gp.Model()\n",
        "  ojModX = ojModel.addMVar(10, ub = 3)\n",
        "  ojModCon = ojModel.addConstr(A @ ojModX <= b)\n",
        "  ojModel.setObjective(obj @ ojModX,sense=gp.GRB.MAXIMIZE)\n",
        "  ojModel.Params.OutputFlag = 0 # tell gurobi to shut up!!\n",
        "  ojModel.Params.TimeLimit = 3600\n",
        "  ojModel.optimize()\n",
        "  P[i] = ojModX.x\n",
        "  b = np.array([0,0,default_budget + reinvest_ratio * ojModel.objVal])\n",
        "  print(\"the profit of that month: \", ojModel.objVal)\n",
        "  print(\"the budget of \", i + 1, \"th month: \",b[2])\n",
        "  print()\n",
        "  "
      ],
      "metadata": {
        "colab": {
          "base_uri": "https://localhost:8080/"
        },
        "id": "-NmIvh3rdEHy",
        "outputId": "d60163ac-98eb-4b6e-ba4b-6b0ffc867b93"
      },
      "execution_count": null,
      "outputs": [
        {
          "output_type": "stream",
          "name": "stdout",
          "text": [
            "the profit of that month:  0.373\n",
            "the budget of  1 th month:  10.1865\n",
            "\n",
            "the profit of that month:  0.40629600000000005\n",
            "the budget of  2 th month:  10.203148\n",
            "\n",
            "the profit of that month:  0.407516476\n",
            "the budget of  3 th month:  10.203758238\n",
            "\n",
            "the profit of that month:  0.40033529656800004\n",
            "the budget of  4 th month:  10.200167648284\n",
            "\n",
            "the profit of that month:  0.41100586768993996\n",
            "the budget of  5 th month:  10.20550293384497\n",
            "\n",
            "the profit of that month:  0.4238091114861089\n",
            "the budget of  6 th month:  10.211904555743054\n",
            "\n",
            "the profit of that month:  0.4282642776739791\n",
            "the budget of  7 th month:  10.21413213883699\n",
            "\n",
            "the profit of that month:  0.4379935498311536\n",
            "the budget of  8 th month:  10.218996774915578\n",
            "\n",
            "the profit of that month:  0.40271237905933416\n",
            "the budget of  9 th month:  10.201356189529667\n",
            "\n",
            "the profit of that month:  0.37144339806494936\n",
            "the budget of  10 th month:  10.185721699032475\n",
            "\n",
            "the profit of that month:  0.4416145896603315\n",
            "the budget of  11 th month:  10.220807294830166\n",
            "\n",
            "the profit of that month:  0.43250108085096145\n",
            "the budget of  12 th month:  10.21625054042548\n",
            "\n"
          ]
        }
      ]
    },
    {
      "cell_type": "code",
      "source": [
        "for i in range(npages):\n",
        "  print(\"the #\", i+1, \"month's allocation\")\n",
        "  print(P[i])\n",
        "  print()"
      ],
      "metadata": {
        "colab": {
          "base_uri": "https://localhost:8080/"
        },
        "id": "_FRXCcR_dhWB",
        "outputId": "9f01e8a1-056e-4893-ab29-09f219afee2d"
      },
      "execution_count": null,
      "outputs": [
        {
          "output_type": "stream",
          "name": "stdout",
          "text": [
            "the # 1 month's allocation\n",
            "[3.         0.         0.         1.33333333 0.         0.\n",
            " 2.66666667 0.         0.         3.        ]\n",
            "\n",
            "the # 2 month's allocation\n",
            "[3.     0.     0.     2.3955 3.     0.     0.     0.     1.791  0.    ]\n",
            "\n",
            "the # 3 month's allocation\n",
            "[0.       0.       0.       3.       0.       3.       1.203148 0.\n",
            " 3.       0.      ]\n",
            "\n",
            "the # 4 month's allocation\n",
            "[0.         0.         0.         3.         0.         3.\n",
            " 3.         0.         1.20375824 0.        ]\n",
            "\n",
            "the # 5 month's allocation\n",
            "[1.20016765 0.         0.         0.         0.         0.\n",
            " 3.         0.         3.         3.        ]\n",
            "\n",
            "the # 6 month's allocation\n",
            "[3.         0.         0.         0.         0.         0.\n",
            " 3.         0.         1.20550293 3.        ]\n",
            "\n",
            "the # 7 month's allocation\n",
            "[0.         0.         0.         3.         1.21190456 0.\n",
            " 3.         0.         3.         0.        ]\n",
            "\n",
            "the # 8 month's allocation\n",
            "[2.71413214 0.         0.         1.5        0.         0.\n",
            " 0.         0.         3.         3.        ]\n",
            "\n",
            "the # 9 month's allocation\n",
            "[0.60949839 0.         0.         3.         0.         3.\n",
            " 0.         0.         3.         0.60949839]\n",
            "\n",
            "the # 10 month's allocation\n",
            "[0.         0.         0.         3.         0.         3.\n",
            " 3.         0.         0.         1.20135619]\n",
            "\n",
            "the # 11 month's allocation\n",
            "[3.        0.        0.        1.1857217 0.        0.        3.\n",
            " 0.        0.        3.       ]\n",
            "\n",
            "the # 12 month's allocation\n",
            "[3.         2.11040365 0.         0.         3.         0.\n",
            " 0.         0.         0.         2.11040365]\n",
            "\n"
          ]
        }
      ]
    }
  ]
}